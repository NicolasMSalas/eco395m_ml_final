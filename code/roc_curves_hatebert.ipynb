{
 "cells": [
  {
   "cell_type": "code",
   "execution_count": null,
   "id": "b85a212e",
   "metadata": {},
   "outputs": [],
   "source": [
    "import matplotlib.pyplot as plt\n",
    "from sklearn.metrics import roc_curve, auc\n",
    "import pandas as pd\n",
    "\n",
    "from project_hatebert_models import (LogisticHateBERT, RandomForestHateBERT, LassoHateBERT, HateSpeechXGBClassifier, \n",
    "                            KNNHateSpeechClassifier, RidgeHateBERT, NBHateBERTClassifier)"
   ]
  },
  {
   "cell_type": "code",
   "execution_count": null,
   "id": "c167667c",
   "metadata": {},
   "outputs": [],
   "source": [
    "train_df = pd.read_csv(\"../data/train_data.csv\")\n",
    "test_df = pd.read_csv(\"../data/test_data.csv\", sep=\";\")\n",
    "\n",
    "X_train = train_df[\"text\"]\n",
    "y_train = train_df[\"label\"]\n",
    "X_test = test_df[\"comment\"]\n",
    "y_test = (test_df[\"isHate\"] >= 0.25).astype(int)"
   ]
  },
  {
   "cell_type": "code",
   "execution_count": null,
   "id": "dc5254e5",
   "metadata": {},
   "outputs": [],
   "source": [
    "models = [\n",
    "    (\"Lasso\", LassoHateBERT()),\n",
    "    (\"Logistic\", LogisticHateBERT()),\n",
    "    (\"Ridge\", RidgeHateBERT()),\n",
    "    (\"KNN\", KNNHateSpeechClassifier()),\n",
    "    (\"XGBoost\", HateSpeechXGBClassifier()),\n",
    "    (\"Random Forest\", RandomForestHateBERT()),\n",
    "    (\"Gaussian Naive Bayes\", NBHateBERTClassifier())\n",
    "]"
   ]
  },
  {
   "cell_type": "code",
   "execution_count": null,
   "id": "c99ec513",
   "metadata": {},
   "outputs": [],
   "source": [
    "plt.figure(figsize=(10, 8))\n",
    "\n",
    "for name, model in models:\n",
    "    model.train(X_train, y_train)\n",
    "    proba = model.predict_proba(X_test)\n",
    "\n",
    "    if isinstance(proba, pd.Series):\n",
    "        proba = proba.values\n",
    "    elif proba.ndim > 1:\n",
    "        proba = proba[:, 1]\n",
    "\n",
    "    fpr, tpr, _ = roc_curve(y_test, proba)\n",
    "    roc_auc = auc(fpr, tpr)\n",
    "    plt.plot(fpr, tpr, label=f\"{name} (AUC = {roc_auc:.2f})\")\n",
    "\n",
    "plt.plot([0, 1], [0, 1], 'k--', label=\"Random Guess\")\n",
    "plt.title(\"ROC Curve Comparison\")\n",
    "plt.xlabel(\"False Positive Rate\")\n",
    "plt.ylabel(\"True Positive Rate\")\n",
    "plt.legend(loc=\"lower right\")\n",
    "plt.grid(True)\n",
    "plt.show()"
   ]
  }
 ],
 "metadata": {
  "language_info": {
   "name": "python"
  }
 },
 "nbformat": 4,
 "nbformat_minor": 5
}
