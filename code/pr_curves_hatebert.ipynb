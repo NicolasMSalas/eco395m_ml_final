{
 "cells": [
  {
   "cell_type": "code",
   "execution_count": null,
   "id": "c59e499a",
   "metadata": {},
   "outputs": [],
   "source": [
    "import matplotlib.pyplot as plt\n",
    "from sklearn.metrics import precision_recall_curve, average_precision_score\n",
    "import pandas as pd\n",
    "\n",
    "from project_hatebert_models import (LogisticHateBERT, RandomForestHateBERT, LassoHateBERT, HateSpeechXGBClassifier, \n",
    "                            KNNHateSpeechClassifier, RidgeHateBERT, NBHateBERTClassifier)"
   ]
  },
  {
   "cell_type": "code",
   "execution_count": null,
   "id": "3259688e",
   "metadata": {},
   "outputs": [],
   "source": [
    "train_df = pd.read_csv(\"../data/train_data.csv\")\n",
    "test_df = pd.read_csv(\"../data/test_data.csv\", sep=\";\")\n",
    "\n",
    "X_train = train_df[\"text\"]\n",
    "y_train = train_df[\"label\"]\n",
    "X_test = test_df[\"comment\"]\n",
    "y_test = (test_df[\"isHate\"] >= 0.25).astype(int)"
   ]
  },
  {
   "cell_type": "code",
   "execution_count": null,
   "id": "b56bd7a9",
   "metadata": {},
   "outputs": [],
   "source": [
    "models = [\n",
    "    (\"Lasso\", LassoHateBERT()),\n",
    "    (\"Logistic\", LogisticHateBERT()),\n",
    "    (\"Ridge\", RidgeHateBERT()),\n",
    "    (\"KNN\", KNNHateSpeechClassifier()),\n",
    "    (\"XGBoost\", HateSpeechXGBClassifier()),\n",
    "    (\"Random Forest\", RandomForestHateBERT()),\n",
    "    (\"Gaussian Naive Bayes\", NBHateBERTClassifier())\n",
    "]"
   ]
  },
  {
   "cell_type": "code",
   "execution_count": null,
   "id": "b324b79f",
   "metadata": {},
   "outputs": [],
   "source": [
    "plt.figure(figsize=(10, 8))\n",
    "\n",
    "for name, model in models:\n",
    "    model.train(X_train, y_train)\n",
    "    proba = model.predict_proba(X_test)\n",
    "\n",
    "    if isinstance(proba, pd.Series):\n",
    "        proba = proba.values\n",
    "    elif proba.ndim > 1:\n",
    "        proba = proba[:, 1]\n",
    "\n",
    "    precision, recall, _ = precision_recall_curve(y_test, proba)\n",
    "    ap_score = average_precision_score(y_test, proba)\n",
    "    plt.plot(recall, precision, label=f\"{name} (AP = {ap_score:.2f})\")\n",
    "\n",
    "plt.xlabel(\"Recall\")\n",
    "plt.ylabel(\"Precision\")\n",
    "plt.title(\"Precision-Recall Curve Comparison\")\n",
    "plt.legend(loc=\"lower left\")\n",
    "plt.grid(True)\n",
    "plt.show()"
   ]
  }
 ],
 "metadata": {
  "language_info": {
   "name": "python"
  }
 },
 "nbformat": 4,
 "nbformat_minor": 5
}
